{
 "cells": [
  {
   "cell_type": "markdown",
   "id": "19444139",
   "metadata": {},
   "source": [
    "# Google API for Drive\n",
    "\n",
    "## Other media at root having zero size, move to folder"
   ]
  },
  {
   "cell_type": "code",
   "execution_count": 1,
   "id": "3aa1cb6b",
   "metadata": {},
   "outputs": [],
   "source": [
    "from __future__ import print_function\n",
    "import os, pandas as pd, pickle\n",
    "from google.auth.transport.requests import Request\n",
    "from google.oauth2.credentials import Credentials\n",
    "from google_auth_oauthlib.flow import InstalledAppFlow\n",
    "from googleapiclient.discovery import build\n",
    "from googleapiclient.errors import HttpError"
   ]
  },
  {
   "cell_type": "code",
   "execution_count": 2,
   "id": "8330409c",
   "metadata": {},
   "outputs": [],
   "source": [
    "# If modifying these scopes, delete the file token.json.\n",
    "\n",
    "SCOPES = [\n",
    "    'https://www.googleapis.com/auth/drive.metadata.readonly',\n",
    "    'https://www.googleapis.com/auth/drive.file',\n",
    "    'https://www.googleapis.com/auth/drive',\n",
    "    'https://www.googleapis.com/auth/drive.appdata']\n",
    "\n",
    "# We get access to these scopes only."
   ]
  },
  {
   "cell_type": "code",
   "execution_count": 3,
   "id": "cc239ae2",
   "metadata": {},
   "outputs": [
    {
     "name": "stdout",
     "output_type": "stream",
     "text": [
      "authentication exists\n"
     ]
    }
   ],
   "source": [
    "\"\"\"Authorization\"\"\"\n",
    "\n",
    "creds = None\n",
    "# The file token.json stores the user's access and refresh tokens, and is\n",
    "# created automatically when the authorization flow completes for the first\n",
    "# time.\n",
    "if os.path.exists('token.json'):\n",
    "    try:\n",
    "        creds = Credentials.from_authorized_user_file('token.json', SCOPES)\n",
    "        print('authentication exists')\n",
    "    except:\n",
    "        print('token read failed')\n",
    "        pass\n",
    "# If there are no (valid) credentials available, let the user log in.\n",
    "if not creds or not creds.valid:\n",
    "    if creds and creds.expired and creds.refresh_token:\n",
    "        print('getting authenticated')\n",
    "        creds.refresh(Request())\n",
    "    else:\n",
    "        flow = InstalledAppFlow.from_client_secrets_file(\n",
    "            'client_secret.json', SCOPES)\n",
    "        creds = flow.run_local_server(port=44599)\n",
    "    # Save the credentials for the next run\n",
    "    with open('token.json', 'w') as token:\n",
    "        token.write(creds.to_json())"
   ]
  },
  {
   "cell_type": "code",
   "execution_count": 4,
   "id": "e395543c",
   "metadata": {},
   "outputs": [],
   "source": [
    "# Start Service\n",
    "service = build('drive', 'v3', credentials=creds)"
   ]
  },
  {
   "cell_type": "code",
   "execution_count": 8,
   "id": "59d7674e",
   "metadata": {},
   "outputs": [
    {
     "name": "stdout",
     "output_type": "stream",
     "text": [
      "Total files searched: 32\n",
      "CPU times: user 2.83 ms, sys: 5.05 ms, total: 7.88 ms\n",
      "Wall time: 429 ms\n"
     ]
    }
   ],
   "source": [
    "%%time\n",
    "\n",
    "\"\"\"\n",
    "find all files in root\n",
    "    - in parent folder, id = \"gkfjdghsiru39w8e42\"\n",
    "    - having quotaBytesUsed = 0\n",
    "\"\"\"\n",
    "\n",
    "parent_folder_id = \"gkfjdghsiru39w8e42\"\n",
    "page_token = None # which page to get\n",
    "searched_files = []# list of files\n",
    "\n",
    "while True:\n",
    "    response = service.files().list(q=f\"'{parent_folder_id}' in parents\",\n",
    "                                    spaces='drive',\n",
    "                                    pageSize=1000,\n",
    "                                    fields='nextPageToken, files(id, name, fullFileExtension, quotaBytesUsed, size, webViewLink, parents)',\n",
    "                                    pageToken=page_token).execute()\n",
    "    files = response.get('files', [])\n",
    "    searched_files.extend( files )\n",
    "    # print('Files added ' + str(len(files)) )\n",
    "    page_token = response.get('nextPageToken', None)\n",
    "    if page_token is None:\n",
    "        break\n",
    "print(f\"Total files searched: {len(searched_files)}\")\n",
    "\n",
    "df = pd.DataFrame(data=searched_files)"
   ]
  },
  {
   "cell_type": "code",
   "execution_count": null,
   "id": "7713eab4",
   "metadata": {},
   "outputs": [],
   "source": [
    "df.head(2)"
   ]
  },
  {
   "cell_type": "code",
   "execution_count": 11,
   "id": "f4b57e56",
   "metadata": {},
   "outputs": [],
   "source": [
    "df_files_root_nosize = df[ \n",
    "    (df['quotaBytesUsed']=='0') & \n",
    "    ~(df['fullFileExtension'].isin(['HEIC', 'PNG', 'MOV', 'png', 'mov', '3gp', 'TRIM.MOV', 'gif', 'MPG', 'MP4'])) &\n",
    "    (~df['fullFileExtension'].isnull()) ]"
   ]
  },
  {
   "cell_type": "code",
   "execution_count": 12,
   "id": "83ecca4a",
   "metadata": {},
   "outputs": [
    {
     "data": {
      "text/plain": [
       "(32, 5)"
      ]
     },
     "execution_count": 12,
     "metadata": {},
     "output_type": "execute_result"
    }
   ],
   "source": [
    "df_files_root_nosize.shape\n",
    "#8084"
   ]
  },
  {
   "cell_type": "code",
   "execution_count": null,
   "id": "ca69c94b",
   "metadata": {},
   "outputs": [],
   "source": [
    "# df_files_root_nosize.fullFileExtension.value_counts()"
   ]
  },
  {
   "cell_type": "code",
   "execution_count": null,
   "id": "3dca497f",
   "metadata": {},
   "outputs": [],
   "source": [
    "#df_files_root_nosize.to_csv('df_files_root_nosize-other-media-5.csv')"
   ]
  },
  {
   "cell_type": "markdown",
   "id": "6b9e840f",
   "metadata": {},
   "source": [
    "# Batch Operation"
   ]
  },
  {
   "cell_type": "code",
   "execution_count": null,
   "id": "7e4c5170",
   "metadata": {},
   "outputs": [],
   "source": [
    "# create a folder\n",
    "\n",
    "file_metadata = {\n",
    "    'name': 'zero-non-jpg',\n",
    "    'mimeType': 'application/vnd.google-apps.folder'\n",
    "}\n",
    "#file = service.files().create(body=file_metadata, fields='id').execute()\n",
    "print(F'Folder ID: \"{file.get(\"id\")}\".')\n",
    "folder_id = file.get(\"id\")"
   ]
  },
  {
   "cell_type": "code",
   "execution_count": null,
   "id": "16133442",
   "metadata": {},
   "outputs": [],
   "source": []
  },
  {
   "cell_type": "code",
   "execution_count": null,
   "id": "a46b6b30",
   "metadata": {},
   "outputs": [],
   "source": []
  },
  {
   "cell_type": "code",
   "execution_count": null,
   "id": "69159fbb",
   "metadata": {},
   "outputs": [],
   "source": []
  },
  {
   "cell_type": "code",
   "execution_count": null,
   "id": "ce9b57d9",
   "metadata": {},
   "outputs": [],
   "source": [
    "def del_files_callback(request_id, response, exception):\n",
    "    if exception is not None:\n",
    "        print('Exception occured')\n",
    "        pass\n",
    "    else:\n",
    "        pass"
   ]
  },
  {
   "cell_type": "code",
   "execution_count": null,
   "id": "d1ed57e2",
   "metadata": {},
   "outputs": [],
   "source": [
    "\n",
    "\n",
    "def del_add_batch(x, batch):\n",
    "    #print(f'id: {x.id}, parent: {x.parents}')\n",
    "    batch.add( service.files().delete(fileId=x.id) )"
   ]
  },
  {
   "cell_type": "code",
   "execution_count": null,
   "id": "d982dee7",
   "metadata": {},
   "outputs": [],
   "source": []
  },
  {
   "cell_type": "code",
   "execution_count": null,
   "id": "5559f7ce",
   "metadata": {},
   "outputs": [],
   "source": [
    "df_len = df_files_root_nosize.shape[0]\n",
    "print(df_len)\n",
    "batches = []\n",
    "for i in range(0,df_len,300):\n",
    "    print(f'Iteration: {i}')\n",
    "    batch = service.new_batch_http_request(callback=del_files_callback)\n",
    "    if (df_len-i < 300):\n",
    "        #print(f' - range: {i}:')\n",
    "        temp = df_files_root_nosize.iloc[i:].apply(lambda x: del_add_batch(x, batch), axis=1)\n",
    "    else:\n",
    "        #print(f' - range: {i}:{i+300}')\n",
    "        temp = df_files_root_nosize.iloc[i:i+300].apply(lambda x: del_add_batch(x, batch), axis=1)\n",
    "    batches.append(batch)\n",
    "    "
   ]
  },
  {
   "cell_type": "code",
   "execution_count": null,
   "id": "92c91507",
   "metadata": {},
   "outputs": [],
   "source": [
    "len(batches)"
   ]
  },
  {
   "cell_type": "code",
   "execution_count": null,
   "id": "0b89321b",
   "metadata": {},
   "outputs": [],
   "source": []
  },
  {
   "cell_type": "code",
   "execution_count": null,
   "id": "90e3c77b",
   "metadata": {},
   "outputs": [],
   "source": [
    "import time"
   ]
  },
  {
   "cell_type": "code",
   "execution_count": null,
   "id": "43419a09",
   "metadata": {},
   "outputs": [],
   "source": [
    "time.time()"
   ]
  },
  {
   "cell_type": "code",
   "execution_count": null,
   "id": "120b7a1d",
   "metadata": {},
   "outputs": [],
   "source": [
    "%%time\n",
    "\n",
    "for b in batches:\n",
    "    start = time.time()\n",
    "    b.execute()\n",
    "    end = time.time()\n",
    "    print(f'time taken: {end - start}')"
   ]
  },
  {
   "cell_type": "code",
   "execution_count": null,
   "id": "835067f4",
   "metadata": {},
   "outputs": [],
   "source": []
  },
  {
   "cell_type": "code",
   "execution_count": null,
   "id": "48e0097c",
   "metadata": {},
   "outputs": [],
   "source": []
  },
  {
   "cell_type": "code",
   "execution_count": null,
   "id": "36de0852",
   "metadata": {},
   "outputs": [],
   "source": []
  }
 ],
 "metadata": {
  "kernelspec": {
   "display_name": "env_gapi",
   "language": "python",
   "name": "env_gapi"
  },
  "language_info": {
   "codemirror_mode": {
    "name": "ipython",
    "version": 3
   },
   "file_extension": ".py",
   "mimetype": "text/x-python",
   "name": "python",
   "nbconvert_exporter": "python",
   "pygments_lexer": "ipython3",
   "version": "3.9.7"
  }
 },
 "nbformat": 4,
 "nbformat_minor": 5
}
