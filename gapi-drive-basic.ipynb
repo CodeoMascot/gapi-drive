{
 "cells": [
  {
   "cell_type": "markdown",
   "id": "36d1405a",
   "metadata": {},
   "source": [
    "# Google Workspace API\n",
    "\n",
    "There is API for almost all the products google has like Drive, GMail, Calendar, Keep etc and all cloud products. API can be used by sending RAW requests or using clients that let interact using language of your choice like Python or Java.\n",
    "\n",
    "Python Client libraries are available for most cloud products, but for other APIs like drive, there is **common** `google-api-python-client` that lets use python to interact with APIs.\n",
    "\n",
    "To use it you need a project in google cloud and projects can be managed in **devconsole** [link](https://console.cloud.google.com/).\n",
    "\n",
    "Create a project and enable the api you want to use.\n",
    "\n",
    "## Google Drive API\n",
    "\n",
    "API Intro <https://developers.google.com/drive/api/guides/about-sdk>\n",
    "\n",
    "Next, authorize API requests. Create user account authorization credentials. This will give you JSON with your secrets. This string and projectID when sent to Google Auth server, authenticates you.\n",
    "\n",
    "You need URI with port from which you will send and recieve response. Also you need to add test account, only they can have access to this app.\n",
    "\n",
    "\n",
    "- **Understanding**\n",
    "    - API has `REST Resources` which is like an item, like in workspace api, `drives`, `files`, `comments` etc.\n",
    "    - Each resources has `methods` like `files.update()`\n",
    "    - each `methods` has\n",
    "        - Path parameters - `files.update(fileId='')`\n",
    "        - Query parameters - `files().update(addParents=folder_id, removeParents=previous_parents, fields='id, parents')`\n",
    "        - response\n",
    "    - eg: `file = service.files().update(fileId=file_id, addParents=folder_id, removeParents=previous_parents, fields='id, parents').execute()`\n",
    "\n",
    "- References\n",
    "    - https://codelabs.developers.google.com/codelabs/gsuite-apis-intro\n",
    "\n",
    "\n",
    "`pip install --upgrade google-api-python-client google-auth-httplib2 google-auth-oauthlib`\n",
    "\n",
    "```sh\n",
    "curl \\\n",
    "  'https://www.googleapis.com/drive/v2/files?key=[YOUR_API_KEY]' \\\n",
    "  --header 'Authorization: Bearer [YOUR_ACCESS_TOKEN]' \\\n",
    "  --header 'Accept: application/json' \\\n",
    "  --compressed\n",
    "```\n",
    "\n",
    "\n",
    "API Doc Web-Requests: https://developers.google.com/drive/api/v2/reference/files/list\n",
    "\n",
    "Codelab: https://codelabs.developers.google.com/codelabs/gsuite-apis-intro/\n",
    "\n",
    "Python Quick Start: https://developers.google.com/drive/api/quickstart/python\n",
    "\n",
    "Search files query string: https://developers.google.com/drive/api/guides/search-files\n",
    "\n",
    "Move files and folders: https://developers.google.com/drive/api/guides/folder\n",
    "\n",
    "Batch Bul requests: https://github.com/googleapis/google-api-python-client/blob/main/docs/batch.md\n",
    "\n",
    "Sample JSON Keys:\n",
    "```json\n",
    "{'kind': 'drive#file',\n",
    " 'id': 'flrtahuli58ypw9843hptq9834htdfsfd',\n",
    " 'name': 'fdsfklansd;fkjs.810073.jpg',\n",
    " 'mimeType': 'image/jpeg',\n",
    " 'description': '',\n",
    " 'starred': False,\n",
    " 'trashed': False,\n",
    " 'explicitlyTrashed': False,\n",
    " 'parents': ['dkasfnu35i4h5r948p'],\n",
    " 'spaces': ['photos', 'drive'],\n",
    " 'version': '2434325',\n",
    " 'webContentLink': 'https://drive.google.com/uc?id=flrtahuli58ypw9843hptq9834htdfsfd&export=download',\n",
    " 'webViewLink': 'https://drive.google.com/file/d/flrtahuli58ypw9843hptq9834htdfsfd/view?usp=drivesdk',\n",
    " 'iconLink': 'https://drive-thirdparty.googleusercontent.com/34/type/image/jpeg',\n",
    " 'hasThumbnail': True,\n",
    " 'thumbnailLink': 'https://lh3.googleusercontent.com/Ifgklndflgkndflkgndflkgndflkjg',\n",
    " 'thumbnailVersion': '2',\n",
    " 'viewedByMe': False,\n",
    " 'createdTime': '2017-06-26T06:47:32.000Z',\n",
    " 'modifiedTime': '2017-06-28T05:46:42.000Z',\n",
    " 'modifiedByMeTime': '2017-06-28T05:46:42.000Z',\n",
    " 'modifiedByMe': True,\n",
    " 'owners': [{'kind': 'drive#user',\n",
    "   'displayName': 'James Smith',\n",
    "   'photoLink': 'https://lh3.googleusercontent.com/a/fkjdsngoierutho4',\n",
    "   'me': True,\n",
    "   'permissionId': '57808692789637',\n",
    "   'emailAddress': 'johndoe@gmail.com'}],\n",
    " 'lastModifyingUser': {'kind': 'drive#user',\n",
    "  'displayName': 'James John Smith Doe',\n",
    "  'photoLink': 'https://lh3.googleusercontent.com/a/Adfkdsjgoi5jotir0s64',\n",
    "  'me': True,\n",
    "  'permissionId': '57808692789637',\n",
    "  'emailAddress': 'johndoe@gmail.com'},\n",
    " 'shared': False,\n",
    " 'ownedByMe': True,\n",
    " 'capabilities': {'canAcceptOwnership': False,\n",
    "  'canAddChildren': False,\n",
    "  'canAddMyDriveParent': False,\n",
    "  'canChangeCopyRequiresWriterPermission': True,\n",
    "  'canChangeSecurityUpdateEnabled': False,\n",
    "  'canChangeViewersCanCopyContent': True,\n",
    "  'canComment': True,\n",
    "  'canCopy': True,\n",
    "  'canDelete': True,\n",
    "  'canDownload': True,\n",
    "  'canEdit': True,\n",
    "  'canListChildren': False,\n",
    "  'canModifyContent': True,\n",
    "  'canModifyContentRestriction': True,\n",
    "  'canModifyLabels': False,\n",
    "  'canMoveChildrenWithinDrive': False,\n",
    "  'canMoveItemIntoTeamDrive': True,\n",
    "  'canMoveItemOutOfDrive': True,\n",
    "  'canMoveItemWithinDrive': True,\n",
    "  'canReadLabels': False,\n",
    "  'canReadRevisions': True,\n",
    "  'canRemoveChildren': False,\n",
    "  'canRemoveMyDriveParent': True,\n",
    "  'canRename': True,\n",
    "  'canShare': True,\n",
    "  'canTrash': True,\n",
    "  'canUntrash': True},\n",
    " 'viewersCanCopyContent': True,\n",
    " 'copyRequiresWriterPermission': False,\n",
    " 'writersCanShare': True,\n",
    " 'permissions': [{'kind': 'drive#permission',\n",
    "   'id': '90683509764809',\n",
    "   'type': 'user',\n",
    "   'emailAddress': 'johndoe@gmail.com',\n",
    "   'role': 'owner',\n",
    "   'displayName': 'John Doe',\n",
    "   'photoLink': 'https://lh3.googleusercontent.com/a/5986h4ngtrfidkjg-oei5jyoit4=s64',\n",
    "   'deleted': False,\n",
    "   'pendingOwner': False}],\n",
    " 'permissionIds': ['5874508934752'],\n",
    " 'originalFilename': '2342.3453.jpg',\n",
    " 'fullFileExtension': 'jpg',\n",
    " 'fileExtension': 'jpg',\n",
    " 'md5Checksum': 'dfmkni8eo45r986yw539u8yugwher',\n",
    " 'size': '3435w34',\n",
    " 'quotaBytesUsed': '0',\n",
    " 'headRevisionId': 'flgkj4p58y6uh3098whpe9rusfNILUGOU84u59tef',\n",
    " 'imageMediaMetadata': {'width': 1204,\n",
    "  'height': 1603,\n",
    "  'rotation': 0,\n",
    "  'time': '2017:06:26 12:17:32',\n",
    "  'colorSpace': 'sRGB'},\n",
    " 'isAppAuthorized': False}\n",
    " ```"
   ]
  },
  {
   "cell_type": "code",
   "execution_count": null,
   "id": "40ec3d9b",
   "metadata": {},
   "outputs": [],
   "source": [
    "#from __future__ import print_function\n",
    "\n",
    "import os.path, json\n",
    "\n",
    "from google.auth.transport.requests import Request\n",
    "from google.oauth2.credentials import Credentials\n",
    "from google_auth_oauthlib.flow import InstalledAppFlow\n",
    "from googleapiclient.discovery import build\n",
    "from googleapiclient.errors import HttpError"
   ]
  },
  {
   "cell_type": "code",
   "execution_count": null,
   "id": "581c28a0",
   "metadata": {},
   "outputs": [],
   "source": [
    "# If modifying these scopes, delete the file token.json.\n",
    "\n",
    "SCOPES = [\n",
    "    'https://www.googleapis.com/auth/drive.metadata.readonly',\n",
    "    'https://www.googleapis.com/auth/drive.file',\n",
    "    'https://www.googleapis.com/auth/drive',\n",
    "    'https://www.googleapis.com/auth/drive.appdata']\n",
    "\n",
    "# We get access to these scopes only."
   ]
  },
  {
   "cell_type": "code",
   "execution_count": null,
   "id": "72962039",
   "metadata": {},
   "outputs": [],
   "source": [
    "\"\"\"Authorization\"\"\"\n",
    "\n",
    "creds = None\n",
    "# The file token.json stores the user's access and refresh tokens, and is\n",
    "# created automatically when the authorization flow completes for the first\n",
    "# time.\n",
    "if os.path.exists('./secrets/token.json'):\n",
    "    try:\n",
    "        creds = Credentials.from_authorized_user_file('token.json', SCOPES)\n",
    "        print('authentication exists')\n",
    "    except:\n",
    "        print('token read failed')\n",
    "        pass\n",
    "# If there are no (valid) credentials available, let the user log in.\n",
    "if not creds or not creds.valid:\n",
    "    if creds and creds.expired and creds.refresh_token:\n",
    "        print('getting authenticated')\n",
    "        creds.refresh(Request())\n",
    "    else:\n",
    "        flow = InstalledAppFlow.from_client_secrets_file(\n",
    "            'no-git/client_secret.json', SCOPES)\n",
    "        creds = flow.run_local_server(port=44599)\n",
    "    # Save the credentials for the next run\n",
    "    with open('./secrets/token.json', 'w') as token:\n",
    "        token.write(creds.to_json())"
   ]
  },
  {
   "cell_type": "code",
   "execution_count": null,
   "id": "f035a2b7",
   "metadata": {},
   "outputs": [],
   "source": [
    "# Start Service\n",
    "service = build('drive', 'v3', credentials=creds)\n"
   ]
  },
  {
   "cell_type": "code",
   "execution_count": null,
   "id": "312564e7",
   "metadata": {},
   "outputs": [],
   "source": [
    "\"\"\"Print Get latest 10 files\"\"\"\n",
    "\n",
    "try:\n",
    "    service = build('drive', 'v3', credentials=creds)\n",
    "\n",
    "    # Call the Drive v3 API\n",
    "    results = service.files().list(\n",
    "        pageSize=10, fields=\"nextPageToken, files(id, name)\").execute()\n",
    "    \n",
    "    # results is JSON object with nextPagetToken and files\n",
    "    \n",
    "    items = results.get('files', [])\n",
    "\n",
    "    if not items:\n",
    "        print('No files found.')\n",
    "        \n",
    "    print('Files:')\n",
    "    for item in items:\n",
    "        print(u'{0} - ({1})'.format(item['name'], item['id']))\n",
    "        \n",
    "except HttpError as error:\n",
    "    # TODO(developer) - Handle errors from drive API.\n",
    "    print(f'An error occurred: {error}')"
   ]
  },
  {
   "cell_type": "markdown",
   "id": "45039dc1",
   "metadata": {},
   "source": [
    "## More Variations and Impementation\n",
    "\n",
    "root parent id dlksfngaskljgna query is `and 'dlksfngaskljgna' in parents\"`\n",
    "\n",
    "search help https://developers.google.com/drive/api/guides/search-files\n",
    "\n",
    "open folder `https://drive.google.com/drive/folders/<file_id>`\n",
    "\n",
    "open file `https://drive.google.com/uc?id=<file_id>`\n",
    "\n",
    "method - https://developers.google.com/drive/api/v3/reference/files\n",
    "\n",
    "- `service.files().list().execute()` returns kind id name type and nextPageToken\n",
    "- `service.files().get(fileId=\"<file_id>\", fields='*').execute()` GET single file\n",
    "\n",
    "\n",
    "```py\n",
    "\n",
    "```"
   ]
  },
  {
   "cell_type": "code",
   "execution_count": null,
   "id": "db0ac5a4",
   "metadata": {},
   "outputs": [],
   "source": [
    "import pickle, pandas as pd"
   ]
  },
  {
   "cell_type": "code",
   "execution_count": null,
   "id": "0bba226f",
   "metadata": {},
   "outputs": [],
   "source": [
    "%%time\n",
    "\n",
    "\"\"\"\n",
    "find all jpg\n",
    "    - in parent folder, id = \"dlksfngaskljgna\"\n",
    "    - having quotaBytesUsed = 0\n",
    "\"\"\"\n",
    "\n",
    "parent_folder_id = \"dlksfngaskljgna\"\n",
    "page_token = None # which page to get\n",
    "searched_files = []# list of files\n",
    "\n",
    "while True:\n",
    "    response = service.files().list(q=f\"name contains '.jpg' and '{parent_folder_id}' in parents \",\n",
    "                                    spaces='drive',\n",
    "                                    pageSize=1000,\n",
    "                                    fields='nextPageToken, files(id, name, quotaBytesUsed, size, webViewLink)',\n",
    "                                    pageToken=page_token).execute()\n",
    "    files = response.get('files', [])\n",
    "    searched_files.extend( files )\n",
    "    # print('Files added ' + str(len(files)) )\n",
    "    page_token = response.get('nextPageToken', None)\n",
    "    if page_token is None:\n",
    "        break\n",
    "print(f\"Total files searched: {len(searched_files)}\")\n",
    "\n",
    "df = pd.DataFrame(data=searched_files)"
   ]
  },
  {
   "cell_type": "code",
   "execution_count": null,
   "id": "a6b7eeb6",
   "metadata": {},
   "outputs": [],
   "source": [
    "pickle_out = open(\"jpeg_file_list.pickle\",\"wb\")\n",
    "pickle.dump(searched_files, pickle_out)\n",
    "pickle_out.close()"
   ]
  },
  {
   "cell_type": "code",
   "execution_count": null,
   "id": "ebe25965",
   "metadata": {},
   "outputs": [],
   "source": [
    "df.head()"
   ]
  },
  {
   "cell_type": "code",
   "execution_count": null,
   "id": "7c0dbdbb",
   "metadata": {},
   "outputs": [],
   "source": [
    "df[df[\"quotaBytesUsed\"]!=\"0\"]"
   ]
  },
  {
   "cell_type": "code",
   "execution_count": null,
   "id": "59cdc4cc",
   "metadata": {},
   "outputs": [],
   "source": [
    "# Get file details\n",
    "\n",
    "# service.files().get(fileId=\"1xTio0pLR_5tauRtsuawzthS4cFnCgBQrVQ\", fields='*').execute()"
   ]
  },
  {
   "cell_type": "markdown",
   "id": "da922c50",
   "metadata": {},
   "source": [
    "# Move file with size"
   ]
  },
  {
   "cell_type": "code",
   "execution_count": null,
   "id": "c8fb8eea",
   "metadata": {},
   "outputs": [],
   "source": [
    "file_metadata = {\n",
    "    'name': 'to-be-backed',\n",
    "    'mimeType': 'application/vnd.google-apps.folder'\n",
    "}"
   ]
  },
  {
   "cell_type": "code",
   "execution_count": null,
   "id": "1cf817ae",
   "metadata": {},
   "outputs": [],
   "source": [
    "file = service.files().create(body=file_metadata, fields='id').execute()\n",
    "print(F'Folder ID: \"{file.get(\"id\")}\".')"
   ]
  },
  {
   "cell_type": "code",
   "execution_count": null,
   "id": "8eed82f9",
   "metadata": {},
   "outputs": [],
   "source": []
  },
  {
   "cell_type": "code",
   "execution_count": null,
   "id": "9fe5d436",
   "metadata": {},
   "outputs": [],
   "source": [
    "file_id = \"flknsdgio4tjh93\"\n",
    "folder_id = \"sdkfngerio-dsaflknaowi4\"\n",
    "# Retrieve the existing parents to remove\n",
    "file = service.files().get(fileId=file_id, fields='parents').execute()\n",
    "previous_parents = \",\".join(file.get('parents'))\n",
    "print(f\"Previous parents of file is: {previous_parents}\")\n",
    "# Move the file to the new folder\n",
    "file = service.files().update(fileId=file_id, addParents=folder_id,\n",
    "                          removeParents=previous_parents,\n",
    "                          fields='id, parents').execute()\n",
    "print(f\"New parents of file is: {file.get('parents')}\")"
   ]
  },
  {
   "cell_type": "code",
   "execution_count": null,
   "id": "66918f5d",
   "metadata": {},
   "outputs": [],
   "source": []
  },
  {
   "cell_type": "code",
   "execution_count": null,
   "id": "563c4966",
   "metadata": {},
   "outputs": [],
   "source": []
  },
  {
   "cell_type": "code",
   "execution_count": null,
   "id": "4841cd4d",
   "metadata": {},
   "outputs": [],
   "source": [
    "file_not_move = []\n",
    "def move_file_to_folder(file_id, folder_id):\n",
    "    \"\"\"Move specified file to the specified folder.\n",
    "    Args:\n",
    "        file_id: Id of the file to move.\n",
    "        folder_id: Id of the folder\n",
    "    Print: An object containing the new parent folder and other meta data\n",
    "    Returns : Parent Ids for the file\n",
    "\n",
    "    Load pre-authorized user credentials from the environment.\n",
    "    TODO(developer) - See https://developers.google.com/identity\n",
    "    for guides on implementing OAuth2 for the application.\n",
    "    \"\"\"\n",
    "\n",
    "    try:\n",
    "\n",
    "        # Retrieve the existing parents to remove\n",
    "        print('-------------------')\n",
    "        print(f'Moving file: {file_id}')\n",
    "        file = service.files().get(fileId=file_id, fields='parents').execute()\n",
    "        previous_parents = \",\".join(file.get('parents'))\n",
    "        print(f'Current parent: {previous_parents}')\n",
    "        # Move the file to the new folder\n",
    "        file = service.files().update(fileId=file_id, addParents=folder_id,\n",
    "                                      removeParents=previous_parents,\n",
    "                                      fields='id, parents').execute()\n",
    "        print(f'New parent: {file.get(\"parents\")}')\n",
    "        return None\n",
    "\n",
    "    except HttpError as error:\n",
    "        print(F'An error occurred: {error}')\n",
    "        file_not_move.append(file_id)\n",
    "        return None\n",
    "\n"
   ]
  },
  {
   "cell_type": "code",
   "execution_count": null,
   "id": "f1713b50",
   "metadata": {},
   "outputs": [],
   "source": [
    "df_has_size = df[df[\"quotaBytesUsed\"]!=\"0\"]"
   ]
  },
  {
   "cell_type": "code",
   "execution_count": null,
   "id": "28147ef5",
   "metadata": {},
   "outputs": [],
   "source": [
    "df_has_size.iloc[:2]"
   ]
  },
  {
   "cell_type": "code",
   "execution_count": null,
   "id": "b9469734",
   "metadata": {},
   "outputs": [],
   "source": [
    "folder_id = \"sfwrt3-23423\"\n",
    "df_has_size.iloc[21:].apply(lambda x: move_file_to_folder(x.id, folder_id), axis=1)"
   ]
  },
  {
   "cell_type": "code",
   "execution_count": null,
   "id": "4e4834b3",
   "metadata": {},
   "outputs": [],
   "source": [
    "file_not_move"
   ]
  },
  {
   "cell_type": "markdown",
   "id": "2a1deddc",
   "metadata": {},
   "source": [
    "    Perfect, now root folder has no JPEG with size > 0, time tp delete all JPEG in ROOT with 0 file size\n",
    "\n",
    "# Delete file with 0 size\n",
    "\n",
    "- Iteration 1\n",
    "    - Total files searched: 23775\n",
    "    - CPU times: user 219 ms, sys: 82.9 ms, total: 302 ms\n",
    "    - Wall time: 1min\n",
    "    - df.shape = (23775, 5)\n",
    "    - delete time\n",
    "        - CPU times: user 2.57 s, sys: 653 ms, total: 3.23 s\n",
    "        - Wall time: 8min 38s\n",
    "        - file_not_deleted = 0\n",
    "        - len(file_deleted) = 707. why?"
   ]
  },
  {
   "cell_type": "code",
   "execution_count": null,
   "id": "3e45ed1b",
   "metadata": {},
   "outputs": [],
   "source": [
    "%%time\n",
    "\"\"\"\n",
    "find all jpg again\n",
    "    - now not file should have size more than 0\n",
    "    - in parent folder, id = \"34r23t32trt23\"\n",
    "    - having quotaBytesUsed = 0\n",
    "\"\"\"\n",
    "parent_folder_id = \"34r23t32trt23\"\n",
    "page_token = None # which page to get\n",
    "searched_files = []# list of files\n",
    "\n",
    "while True:\n",
    "    response = service.files().list(q=f\"name contains '.jpg' and '{parent_folder_id}' in parents  and trashed = false\",\n",
    "                                    spaces='drive',\n",
    "                                    pageSize=1000,\n",
    "                                    fields='nextPageToken, files(id, name, trashed, quotaBytesUsed, size, webViewLink)',\n",
    "                                    pageToken=page_token).execute()\n",
    "    files = response.get('files', [])\n",
    "    searched_files.extend( files )\n",
    "    # print('Files added ' + str(len(files)) )\n",
    "    page_token = response.get('nextPageToken', None)\n",
    "    if page_token is None:\n",
    "        break\n",
    "print(f\"Total files searched: {len(searched_files)}\")\n",
    "\n",
    "df = pd.DataFrame(data=searched_files)"
   ]
  },
  {
   "cell_type": "code",
   "execution_count": null,
   "id": "de236542",
   "metadata": {},
   "outputs": [],
   "source": [
    "df.shape"
   ]
  },
  {
   "cell_type": "code",
   "execution_count": null,
   "id": "67e8e8b2",
   "metadata": {},
   "outputs": [],
   "source": [
    "df.head()"
   ]
  },
  {
   "cell_type": "code",
   "execution_count": null,
   "id": "5cbce0de",
   "metadata": {},
   "outputs": [],
   "source": [
    "df[df[\"quotaBytesUsed\"]!=\"0\"].shape"
   ]
  },
  {
   "cell_type": "code",
   "execution_count": null,
   "id": "1defe576",
   "metadata": {},
   "outputs": [],
   "source": [
    "df_to_delete = df[ (df['trashed'] == False) & (df['quotaBytesUsed'] == '0') ]\n",
    "df_to_delete.shape"
   ]
  },
  {
   "cell_type": "code",
   "execution_count": null,
   "id": "dec81067",
   "metadata": {},
   "outputs": [],
   "source": [
    "df.iloc[1]"
   ]
  },
  {
   "cell_type": "code",
   "execution_count": null,
   "id": "95c9694b",
   "metadata": {},
   "outputs": [],
   "source": [
    "file_id = 'fsdge4t34536tyewrhdgfds'\n",
    "\n",
    "# Get file details\n",
    "\n",
    "service.files().get(fileId=file_id, fields='trashed, id').execute()"
   ]
  },
  {
   "cell_type": "code",
   "execution_count": null,
   "id": "aae2baf2",
   "metadata": {},
   "outputs": [],
   "source": []
  },
  {
   "cell_type": "code",
   "execution_count": null,
   "id": "6ab3371b",
   "metadata": {},
   "outputs": [],
   "source": [
    "# Save resilts to csv\n",
    "\n",
    "df.to_csv('jpg-in-root-size-0-iter-2.csv')"
   ]
  },
  {
   "cell_type": "code",
   "execution_count": null,
   "id": "0908cfca",
   "metadata": {},
   "outputs": [],
   "source": [
    "# file delete function\n",
    "\n",
    "file_not_deleted = []\n",
    "file_deleted = []\n",
    "def delete_file(file_id):\n",
    "    \"\"\"Deletes file by file_id\"\"\"\n",
    "    try:\n",
    "        service.files().delete(fileId=file_id).execute()\n",
    "        file_deleted.append(file_id)\n",
    "    except:\n",
    "        print(f'Error deleting file \"{file_id}\".')\n",
    "        file_not_deleted.append(file_id)"
   ]
  },
  {
   "cell_type": "code",
   "execution_count": null,
   "id": "700b24e9",
   "metadata": {},
   "outputs": [],
   "source": [
    "%%time\n",
    "\n",
    "# Delete files\n",
    "\n",
    "df_to_delete.iloc[:].apply(lambda x: delete_file(x.id), axis=1)\n",
    "\n",
    "# Error deleting file \"sfdfs3425242-g\".\n",
    "# CPU times: user 1min 38s, sys: 31.3 s, total: 2min 10s\n",
    "# Wall time: 3h 55min 11s"
   ]
  },
  {
   "cell_type": "code",
   "execution_count": null,
   "id": "8aface30",
   "metadata": {},
   "outputs": [],
   "source": [
    "len(file_not_deleted)"
   ]
  },
  {
   "cell_type": "code",
   "execution_count": null,
   "id": "ff11ef1b",
   "metadata": {},
   "outputs": [],
   "source": [
    "len(file_deleted)"
   ]
  },
  {
   "cell_type": "code",
   "execution_count": null,
   "id": "2d8712bd",
   "metadata": {},
   "outputs": [],
   "source": [
    "import time"
   ]
  },
  {
   "cell_type": "code",
   "execution_count": null,
   "id": "4007d5c4",
   "metadata": {},
   "outputs": [],
   "source": [
    "%%time\n",
    "start = time.time()\n",
    "time.sleep(2)\n",
    "end = time.time()\n",
    "total = end - start\n",
    "print(f'time taken: {total}')"
   ]
  },
  {
   "cell_type": "code",
   "execution_count": null,
   "id": "2724e2fa",
   "metadata": {},
   "outputs": [],
   "source": []
  }
 ],
 "metadata": {
  "kernelspec": {
   "display_name": "env_gapi",
   "language": "python",
   "name": "env_gapi"
  },
  "language_info": {
   "codemirror_mode": {
    "name": "ipython",
    "version": 3
   },
   "file_extension": ".py",
   "mimetype": "text/x-python",
   "name": "python",
   "nbconvert_exporter": "python",
   "pygments_lexer": "ipython3",
   "version": "3.9.7"
  }
 },
 "nbformat": 4,
 "nbformat_minor": 5
}
