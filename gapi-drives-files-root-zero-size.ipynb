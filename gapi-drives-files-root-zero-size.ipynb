{
 "cells": [
  {
   "cell_type": "markdown",
   "id": "19444139",
   "metadata": {},
   "source": [
    "# Google API for Drive\n",
    "\n",
    "## Other media at root having zero size, move to folder"
   ]
  },
  {
   "cell_type": "code",
   "execution_count": 1,
   "id": "3aa1cb6b",
   "metadata": {},
   "outputs": [],
   "source": [
    "from __future__ import print_function\n",
    "import os, pandas as pd, pickle\n",
    "from google.auth.transport.requests import Request\n",
    "from google.oauth2.credentials import Credentials\n",
    "from google_auth_oauthlib.flow import InstalledAppFlow\n",
    "from googleapiclient.discovery import build\n",
    "from googleapiclient.errors import HttpError"
   ]
  },
  {
   "cell_type": "code",
   "execution_count": 2,
   "id": "8330409c",
   "metadata": {},
   "outputs": [],
   "source": [
    "# If modifying these scopes, delete the file token.json.\n",
    "\n",
    "SCOPES = [\n",
    "    'https://www.googleapis.com/auth/drive.metadata.readonly',\n",
    "    'https://www.googleapis.com/auth/drive.file',\n",
    "    'https://www.googleapis.com/auth/drive',\n",
    "    'https://www.googleapis.com/auth/drive.appdata']\n",
    "\n",
    "# We get access to these scopes only."
   ]
  },
  {
   "cell_type": "code",
   "execution_count": 3,
   "id": "cc239ae2",
   "metadata": {},
   "outputs": [
    {
     "name": "stdout",
     "output_type": "stream",
     "text": [
      "authentication exists\n"
     ]
    }
   ],
   "source": [
    "\"\"\"Authorization\"\"\"\n",
    "\n",
    "creds = None\n",
    "# The file token.json stores the user's access and refresh tokens, and is\n",
    "# created automatically when the authorization flow completes for the first\n",
    "# time.\n",
    "if os.path.exists('token.json'):\n",
    "    try:\n",
    "        creds = Credentials.from_authorized_user_file('token.json', SCOPES)\n",
    "        print('authentication exists')\n",
    "    except:\n",
    "        print('token read failed')\n",
    "        pass\n",
    "# If there are no (valid) credentials available, let the user log in.\n",
    "if not creds or not creds.valid:\n",
    "    if creds and creds.expired and creds.refresh_token:\n",
    "        print('getting authenticated')\n",
    "        creds.refresh(Request())\n",
    "    else:\n",
    "        flow = InstalledAppFlow.from_client_secrets_file(\n",
    "            'client_secret.json', SCOPES)\n",
    "        creds = flow.run_local_server(port=44599)\n",
    "    # Save the credentials for the next run\n",
    "    with open('token.json', 'w') as token:\n",
    "        token.write(creds.to_json())"
   ]
  },
  {
   "cell_type": "code",
   "execution_count": 4,
   "id": "e395543c",
   "metadata": {},
   "outputs": [],
   "source": [
    "# Start Service\n",
    "service = build('drive', 'v3', credentials=creds)"
   ]
  },
  {
   "cell_type": "code",
   "execution_count": 25,
   "id": "59d7674e",
   "metadata": {},
   "outputs": [
    {
     "name": "stdout",
     "output_type": "stream",
     "text": [
      "Total files searched: 32\n",
      "CPU times: user 11.8 ms, sys: 0 ns, total: 11.8 ms\n",
      "Wall time: 483 ms\n"
     ]
    }
   ],
   "source": [
    "%%time\n",
    "\n",
    "\"\"\"\n",
    "find all files in root\n",
    "    - in parent folder, id = \"kfgodr8g9IUHmojnJI898uUhiu\"\n",
    "    - having quotaBytesUsed = 0\n",
    "\"\"\"\n",
    "\n",
    "parent_folder_id = \"kfgodr8g9IUHmojnJI898uUhiu\"\n",
    "page_token = None # which page to get\n",
    "searched_files = []# list of files\n",
    "\n",
    "while True:\n",
    "    response = service.files().list(q=f\"'{parent_folder_id}' in parents\",\n",
    "                                    spaces='drive',\n",
    "                                    pageSize=1000,\n",
    "                                    fields='nextPageToken, files(id, name, fullFileExtension, quotaBytesUsed, size, webViewLink, parents)',\n",
    "                                    pageToken=page_token).execute()\n",
    "    files = response.get('files', [])\n",
    "    searched_files.extend( files )\n",
    "    # print('Files added ' + str(len(files)) )\n",
    "    page_token = response.get('nextPageToken', None)\n",
    "    if page_token is None:\n",
    "        break\n",
    "print(f\"Total files searched: {len(searched_files)}\")\n",
    "\n",
    "df = pd.DataFrame(data=searched_files)"
   ]
  },
  {
   "cell_type": "code",
   "execution_count": 7,
   "id": "f4b57e56",
   "metadata": {},
   "outputs": [],
   "source": [
    "df_files_root_nosize = df[ (df['quotaBytesUsed']=='0') & (df['fullFileExtension'].isin(['HEIC', 'PNG', 'MOV', 'png', 'mov', '3gp', 'TRIM.MOV', 'gif', 'MPG', 'MP4'])) &(~df['fullFileExtension'].isnull()) ]"
   ]
  },
  {
   "cell_type": "code",
   "execution_count": 8,
   "id": "83ecca4a",
   "metadata": {},
   "outputs": [
    {
     "data": {
      "text/plain": [
       "(0, 7)"
      ]
     },
     "execution_count": 8,
     "metadata": {},
     "output_type": "execute_result"
    }
   ],
   "source": [
    "df_files_root_nosize.shape\n",
    "#8084"
   ]
  },
  {
   "cell_type": "code",
   "execution_count": 9,
   "id": "107e5a0d",
   "metadata": {},
   "outputs": [
    {
     "data": {
      "text/plain": [
       "Series([], Name: count, dtype: int64)"
      ]
     },
     "execution_count": 9,
     "metadata": {},
     "output_type": "execute_result"
    }
   ],
   "source": [
    "df_files_root_nosize.fullFileExtension.value_counts()"
   ]
  },
  {
   "cell_type": "code",
   "execution_count": 10,
   "id": "ca69c94b",
   "metadata": {},
   "outputs": [],
   "source": [
    "# df_files_root_nosize.fullFileExtension.value_counts()"
   ]
  },
  {
   "cell_type": "code",
   "execution_count": 11,
   "id": "3dca497f",
   "metadata": {},
   "outputs": [],
   "source": [
    "#df_files_root_nosize.to_csv('df_files_root_nosize-other-media-4.csv')"
   ]
  },
  {
   "cell_type": "markdown",
   "id": "efdd9a54",
   "metadata": {},
   "source": [
    "# Batch Operation"
   ]
  },
  {
   "cell_type": "code",
   "execution_count": 12,
   "id": "053ba28b",
   "metadata": {},
   "outputs": [],
   "source": [
    "#batch = service.new_batch_http_request()"
   ]
  },
  {
   "cell_type": "code",
   "execution_count": 13,
   "id": "a516ceeb",
   "metadata": {},
   "outputs": [],
   "source": [
    "# create a folder\n",
    "\n",
    "# file_metadata = {\n",
    "#     'name': 'zero-non-jpg',\n",
    "#     'mimeType': 'application/vnd.google-apps.folder'\n",
    "# }\n",
    "# #file = service.files().create(body=file_metadata, fields='id').execute()\n",
    "# print(F'Folder ID: \"{file.get(\"id\")}\".')\n",
    "# folder_id = file.get(\"id\")"
   ]
  },
  {
   "cell_type": "code",
   "execution_count": 14,
   "id": "7da903f6",
   "metadata": {},
   "outputs": [],
   "source": [
    "folder_id = 'kfgodr8g9IUHmojnJI898uUhiu'"
   ]
  },
  {
   "cell_type": "code",
   "execution_count": null,
   "id": "244c6aab",
   "metadata": {},
   "outputs": [],
   "source": []
  },
  {
   "cell_type": "code",
   "execution_count": null,
   "id": "710dae98",
   "metadata": {},
   "outputs": [],
   "source": []
  },
  {
   "cell_type": "code",
   "execution_count": null,
   "id": "bbcd6bad",
   "metadata": {},
   "outputs": [],
   "source": []
  },
  {
   "cell_type": "code",
   "execution_count": 15,
   "id": "7cd1c5bf",
   "metadata": {},
   "outputs": [],
   "source": [
    "# count = 0\n",
    "# error = 0\n",
    "def move_files_callback(request_id, response, exception):\n",
    "    if exception is not None:\n",
    "        print('Exception occured')\n",
    "        #error = error + 1\n",
    "        pass\n",
    "    else:\n",
    "        # Do something with the response\n",
    "        # print('Files moved')\n",
    "        #count = count + 1\n",
    "        pass"
   ]
  },
  {
   "cell_type": "code",
   "execution_count": 16,
   "id": "616fd8a2",
   "metadata": {},
   "outputs": [],
   "source": [
    "\n",
    "\n",
    "def move_add_batch(x, batch):\n",
    "\n",
    "    #print(f'id: {x.id}, parent: {x.parents}')\n",
    "    previous_parents = \",\".join(x.parents)\n",
    "    batch.add(service.files().update(fileId=x.id, addParents=folder_id,\n",
    "                              removeParents=previous_parents, fields='id') )"
   ]
  },
  {
   "cell_type": "code",
   "execution_count": 17,
   "id": "e75a4c98",
   "metadata": {},
   "outputs": [],
   "source": [
    "# temp = df_files_root_nosize.iloc[700:1000].apply(lambda x: move_add_batch(x), axis=1)\n"
   ]
  },
  {
   "cell_type": "code",
   "execution_count": 18,
   "id": "1f9f0d8c",
   "metadata": {},
   "outputs": [
    {
     "name": "stdout",
     "output_type": "stream",
     "text": [
      "CPU times: user 1 µs, sys: 0 ns, total: 1 µs\n",
      "Wall time: 3.81 µs\n"
     ]
    }
   ],
   "source": [
    "%%time\n",
    "# batch.execute()"
   ]
  },
  {
   "cell_type": "code",
   "execution_count": 19,
   "id": "d38b6c77",
   "metadata": {},
   "outputs": [],
   "source": [
    "# \\print(count)"
   ]
  },
  {
   "cell_type": "code",
   "execution_count": null,
   "id": "f7fc7847",
   "metadata": {},
   "outputs": [],
   "source": []
  },
  {
   "cell_type": "code",
   "execution_count": 20,
   "id": "311c908d",
   "metadata": {},
   "outputs": [
    {
     "name": "stdout",
     "output_type": "stream",
     "text": [
      "0\n"
     ]
    }
   ],
   "source": [
    "df_len = df_files_root_nosize.shape[0]\n",
    "print(df_len)\n",
    "batches = []\n",
    "for i in range(0,df_len,300):\n",
    "    print(f'Iteration: {i}')\n",
    "    batch = service.new_batch_http_request(callback=move_files_callback)\n",
    "    if (df_len-i < 300):\n",
    "        #print(f' - range: {i}:')\n",
    "        temp = df_files_root_nosize.iloc[i:].apply(lambda x: move_add_batch(x, batch), axis=1)\n",
    "    else:\n",
    "        #print(f' - range: {i}:{i+300}')\n",
    "        temp = df_files_root_nosize.iloc[i:i+300].apply(lambda x: move_add_batch(x, batch), axis=1)\n",
    "    batches.append(batch)\n",
    "    "
   ]
  },
  {
   "cell_type": "code",
   "execution_count": 21,
   "id": "531d916a",
   "metadata": {},
   "outputs": [
    {
     "data": {
      "text/plain": [
       "0"
      ]
     },
     "execution_count": 21,
     "metadata": {},
     "output_type": "execute_result"
    }
   ],
   "source": [
    "len(batches)"
   ]
  },
  {
   "cell_type": "code",
   "execution_count": null,
   "id": "358af0c3",
   "metadata": {},
   "outputs": [],
   "source": []
  },
  {
   "cell_type": "code",
   "execution_count": 22,
   "id": "09639628",
   "metadata": {},
   "outputs": [],
   "source": [
    "import time"
   ]
  },
  {
   "cell_type": "code",
   "execution_count": 23,
   "id": "ae42e400",
   "metadata": {},
   "outputs": [
    {
     "data": {
      "text/plain": [
       "1685297057.689125"
      ]
     },
     "execution_count": 23,
     "metadata": {},
     "output_type": "execute_result"
    }
   ],
   "source": [
    "time.time()"
   ]
  },
  {
   "cell_type": "code",
   "execution_count": 24,
   "id": "aa1b372e",
   "metadata": {},
   "outputs": [
    {
     "name": "stdout",
     "output_type": "stream",
     "text": [
      "CPU times: user 3 µs, sys: 1 µs, total: 4 µs\n",
      "Wall time: 6.2 µs\n"
     ]
    }
   ],
   "source": [
    "%%time\n",
    "\n",
    "for b in batches:\n",
    "    start = time.time()\n",
    "    b.execute()\n",
    "    end = time.time()\n",
    "    print(f'time taken: {end - start}')"
   ]
  },
  {
   "cell_type": "code",
   "execution_count": null,
   "id": "f5270363",
   "metadata": {},
   "outputs": [],
   "source": []
  },
  {
   "cell_type": "code",
   "execution_count": null,
   "id": "d6bf4c78",
   "metadata": {},
   "outputs": [],
   "source": []
  },
  {
   "cell_type": "code",
   "execution_count": null,
   "id": "c66cdbd6",
   "metadata": {},
   "outputs": [],
   "source": []
  }
 ],
 "metadata": {
  "kernelspec": {
   "display_name": "env_gapi",
   "language": "python",
   "name": "env_gapi"
  },
  "language_info": {
   "codemirror_mode": {
    "name": "ipython",
    "version": 3
   },
   "file_extension": ".py",
   "mimetype": "text/x-python",
   "name": "python",
   "nbconvert_exporter": "python",
   "pygments_lexer": "ipython3",
   "version": "3.9.7"
  }
 },
 "nbformat": 4,
 "nbformat_minor": 5
}
