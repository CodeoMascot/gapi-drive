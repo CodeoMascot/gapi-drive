{
 "cells": [
  {
   "cell_type": "markdown",
   "id": "19444139",
   "metadata": {},
   "source": [
    "# Google API for Drive\n",
    "\n",
    "## Move Files from Root folder to 'to-be-backed' folder"
   ]
  },
  {
   "cell_type": "code",
   "execution_count": 4,
   "id": "3aa1cb6b",
   "metadata": {},
   "outputs": [],
   "source": [
    "from __future__ import print_function\n",
    "import os, pandas as pd, pickle\n",
    "from google.auth.transport.requests import Request\n",
    "from google.oauth2.credentials import Credentials\n",
    "from google_auth_oauthlib.flow import InstalledAppFlow\n",
    "from googleapiclient.discovery import build\n",
    "from googleapiclient.errors import HttpError"
   ]
  },
  {
   "cell_type": "code",
   "execution_count": 5,
   "id": "8330409c",
   "metadata": {},
   "outputs": [],
   "source": [
    "# If modifying these scopes, delete the file token.json.\n",
    "\n",
    "SCOPES = [\n",
    "    'https://www.googleapis.com/auth/drive.metadata.readonly',\n",
    "    'https://www.googleapis.com/auth/drive.file',\n",
    "    'https://www.googleapis.com/auth/drive',\n",
    "    'https://www.googleapis.com/auth/drive.appdata']\n",
    "\n",
    "# We get access to these scopes only."
   ]
  },
  {
   "cell_type": "code",
   "execution_count": 6,
   "id": "cc239ae2",
   "metadata": {},
   "outputs": [
    {
     "name": "stdout",
     "output_type": "stream",
     "text": [
      "authentication exists\n",
      "getting authenticated\n"
     ]
    }
   ],
   "source": [
    "\"\"\"Authorization\"\"\"\n",
    "\n",
    "creds = None\n",
    "# The file token.json stores the user's access and refresh tokens, and is\n",
    "# created automatically when the authorization flow completes for the first\n",
    "# time.\n",
    "if os.path.exists('token.json'):\n",
    "    try:\n",
    "        creds = Credentials.from_authorized_user_file('token.json', SCOPES)\n",
    "        print('authentication exists')\n",
    "    except:\n",
    "        print('token read failed')\n",
    "        pass\n",
    "# If there are no (valid) credentials available, let the user log in.\n",
    "if not creds or not creds.valid:\n",
    "    if creds and creds.expired and creds.refresh_token:\n",
    "        print('getting authenticated')\n",
    "        creds.refresh(Request())\n",
    "    else:\n",
    "        flow = InstalledAppFlow.from_client_secrets_file(\n",
    "            'client_secret.json', SCOPES)\n",
    "        creds = flow.run_local_server(port=44599)\n",
    "    # Save the credentials for the next run\n",
    "    with open('token.json', 'w') as token:\n",
    "        token.write(creds.to_json())"
   ]
  },
  {
   "cell_type": "code",
   "execution_count": 7,
   "id": "e395543c",
   "metadata": {},
   "outputs": [],
   "source": [
    "# Start Service\n",
    "service = build('drive', 'v3', credentials=creds)"
   ]
  },
  {
   "cell_type": "code",
   "execution_count": 8,
   "id": "59d7674e",
   "metadata": {},
   "outputs": [
    {
     "name": "stdout",
     "output_type": "stream",
     "text": [
      "Total files searched: 32552\n",
      "CPU times: user 301 ms, sys: 65 ms, total: 366 ms\n",
      "Wall time: 1min 8s\n"
     ]
    }
   ],
   "source": [
    "%%time\n",
    "\n",
    "\"\"\"\n",
    "find all files in root\n",
    "    - in parent folder, id = \"fsdklfj32498rj98thj4iuen\"\n",
    "    - having quotaBytesUsed = 0\n",
    "\"\"\"\n",
    "\n",
    "parent_folder_id = \"fsdklfj32498rj98thj4iuen\"\n",
    "page_token = None # which page to get\n",
    "searched_files = []# list of files\n",
    "\n",
    "while True:\n",
    "    response = service.files().list(q=f\"'{parent_folder_id}' in parents \",\n",
    "                                    spaces='drive',\n",
    "                                    pageSize=1000,\n",
    "                                    fields='nextPageToken, files(id, name, fullFileExtension, quotaBytesUsed, size, webViewLink)',\n",
    "                                    pageToken=page_token).execute()\n",
    "    files = response.get('files', [])\n",
    "    searched_files.extend( files )\n",
    "    # print('Files added ' + str(len(files)) )\n",
    "    page_token = response.get('nextPageToken', None)\n",
    "    if page_token is None:\n",
    "        break\n",
    "print(f\"Total files searched: {len(searched_files)}\")\n",
    "\n",
    "df = pd.DataFrame(data=searched_files)"
   ]
  },
  {
   "cell_type": "code",
   "execution_count": null,
   "id": "7713eab4",
   "metadata": {},
   "outputs": [],
   "source": [
    "df.head()"
   ]
  },
  {
   "cell_type": "code",
   "execution_count": 15,
   "id": "f4b57e56",
   "metadata": {},
   "outputs": [],
   "source": [
    "df_files_root_size = df[df['quotaBytesUsed']!='0']"
   ]
  },
  {
   "cell_type": "code",
   "execution_count": 16,
   "id": "83ecca4a",
   "metadata": {},
   "outputs": [
    {
     "data": {
      "text/plain": [
       "(82, 6)"
      ]
     },
     "execution_count": 16,
     "metadata": {},
     "output_type": "execute_result"
    }
   ],
   "source": [
    "df_files_root_size.shape"
   ]
  },
  {
   "cell_type": "code",
   "execution_count": 17,
   "id": "ca69c94b",
   "metadata": {},
   "outputs": [
    {
     "data": {
      "text/plain": [
       "fullFileExtension\n",
       "PNG                     25\n",
       "docx                    18\n",
       "pdf                     17\n",
       "jpeg                     3\n",
       "                         3\n",
       "pptx                     1\n",
       "0_apple.docx             1\n",
       "7_bofa.docx              1\n",
       "6_temp.docx              1\n",
       "0_jpmc.docx              1\n",
       "5syn.pdf                 1\n",
       "5syn.docx                1\n",
       "4_with_annexure.docx     1\n",
       "PDF                      1\n",
       "Name: count, dtype: int64"
      ]
     },
     "execution_count": 17,
     "metadata": {},
     "output_type": "execute_result"
    }
   ],
   "source": [
    "df_files_root_size.fullFileExtension.value_counts()"
   ]
  },
  {
   "cell_type": "code",
   "execution_count": 18,
   "id": "3dca497f",
   "metadata": {},
   "outputs": [],
   "source": [
    "df_files_root_size.to_csv('df_files_root_size_moved.csv')"
   ]
  },
  {
   "cell_type": "code",
   "execution_count": 19,
   "id": "7144c096",
   "metadata": {},
   "outputs": [],
   "source": [
    "file_not_moved = []\n",
    "file_moved = []\n",
    "def move_file_to_folder(file_id, folder_id):\n",
    "    \"\"\"Move specified file to the specified folder.\n",
    "    Args:\n",
    "        file_id: Id of the file to move.\n",
    "        folder_id: Id of the folder\n",
    "    Print: An object containing the new parent folder and other meta data\n",
    "    Returns : Parent Ids for the file\n",
    "\n",
    "    Load pre-authorized user credentials from the environment.\n",
    "    TODO(developer) - See https://developers.google.com/identity\n",
    "    for guides on implementing OAuth2 for the application.\n",
    "    \"\"\"\n",
    "\n",
    "    try:\n",
    "\n",
    "        # Retrieve the existing parents to remove\n",
    "#         print('-------------------')\n",
    "#         print(f'Moving file: {file_id}')\n",
    "        file = service.files().get(fileId=file_id, fields='parents').execute()\n",
    "        previous_parents = \",\".join(file.get('parents'))\n",
    "#         print(f'Current parent: {previous_parents}')\n",
    "        # Move the file to the new folder\n",
    "        file = service.files().update(fileId=file_id, addParents=folder_id,\n",
    "                                      removeParents=previous_parents,\n",
    "                                      fields='id, parents').execute()\n",
    "#         print(f'New parent: {file.get(\"parents\")}')\n",
    "        file_moved.append(file_id)\n",
    "#         return None\n",
    "\n",
    "    except HttpError as error:\n",
    "        print(F'An error occurred: {error}')\n",
    "        file_not_moved.append(file_id)\n",
    "#         return None\n",
    "\n"
   ]
  },
  {
   "cell_type": "code",
   "execution_count": 20,
   "id": "6012a72b",
   "metadata": {},
   "outputs": [
    {
     "name": "stdout",
     "output_type": "stream",
     "text": [
      "CPU times: user 1.02 s, sys: 139 ms, total: 1.16 s\n",
      "Wall time: 1min 38s\n"
     ]
    },
    {
     "data": {
      "text/plain": [
       "4        None\n",
       "7        None\n",
       "11       None\n",
       "13       None\n",
       "14       None\n",
       "         ... \n",
       "29719    None\n",
       "29723    None\n",
       "29724    None\n",
       "30511    None\n",
       "30512    None\n",
       "Length: 82, dtype: object"
      ]
     },
     "execution_count": 20,
     "metadata": {},
     "output_type": "execute_result"
    }
   ],
   "source": [
    "%%time\n",
    "folder_id = \"fsdklfj32498rj98thj4iuen-dlmrk342portrg0ithnrg\"\n",
    "df_files_root_size.apply(lambda x: move_file_to_folder(x.id, folder_id), axis=1)\n",
    "CPU times: user 1.02 s, sys: 139 ms, total: 1.16 s\n",
    "Wall time: 1min 38s"
   ]
  },
  {
   "cell_type": "markdown",
   "id": "2a5a411c",
   "metadata": {},
   "source": [
    "# Check if moved"
   ]
  },
  {
   "cell_type": "code",
   "execution_count": null,
   "id": "cc09dc2c",
   "metadata": {},
   "outputs": [],
   "source": [
    "%%time\n",
    "\n",
    "\"\"\"\n",
    "find all files in root\n",
    "    - in parent folder, id = \"fsdklfj32498rj98thj4iuen\"\n",
    "    - having quotaBytesUsed = 0\n",
    "\"\"\"\n",
    "\n",
    "parent_folder_id = \"fsdklfj32498rj98thj4iuen\"\n",
    "page_token = None # which page to get\n",
    "searched_files = []# list of files\n",
    "\n",
    "while True:\n",
    "    response = service.files().list(q=f\"'{parent_folder_id}' in parents\",\n",
    "                                    spaces='drive',\n",
    "                                    pageSize=1000,\n",
    "                                    fields='nextPageToken, files(id, name, fullFileExtension, quotaBytesUsed, size, webViewLink)',\n",
    "                                    pageToken=page_token).execute()\n",
    "    files = response.get('files', [])\n",
    "    searched_files.extend( files )\n",
    "    # print('Files added ' + str(len(files)) )\n",
    "    page_token = response.get('nextPageToken', None)\n",
    "    if page_token is None:\n",
    "        break\n",
    "print(f\"Total files searched: {len(searched_files)}\")\n",
    "\n",
    "df = pd.DataFrame(data=searched_files)\n",
    "df.shape"
   ]
  },
  {
   "cell_type": "code",
   "execution_count": 23,
   "id": "3708f2a1",
   "metadata": {},
   "outputs": [
    {
     "data": {
      "text/plain": [
       "(0, 6)"
      ]
     },
     "execution_count": 23,
     "metadata": {},
     "output_type": "execute_result"
    }
   ],
   "source": [
    "df[df['quotaBytesUsed']!='0'].shape"
   ]
  },
  {
   "cell_type": "code",
   "execution_count": null,
   "id": "1a0278b3",
   "metadata": {},
   "outputs": [],
   "source": [
    "# All moved successfully"
   ]
  }
 ],
 "metadata": {
  "kernelspec": {
   "display_name": "env_gapi",
   "language": "python",
   "name": "env_gapi"
  },
  "language_info": {
   "codemirror_mode": {
    "name": "ipython",
    "version": 3
   },
   "file_extension": ".py",
   "mimetype": "text/x-python",
   "name": "python",
   "nbconvert_exporter": "python",
   "pygments_lexer": "ipython3",
   "version": "3.9.7"
  }
 },
 "nbformat": 4,
 "nbformat_minor": 5
}
